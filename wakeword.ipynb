{
 "cells": [
  {
   "cell_type": "code",
   "execution_count": null,
   "id": "renewable-blood",
   "metadata": {},
   "outputs": [],
   "source": [
    "# google-oauthlib-tool --scope https://www.googleapis.com/auth/assistant-sdk-prototype \\ --save --headless --client-secrets ./client_secret.json"
   ]
  },
  {
   "cell_type": "code",
   "execution_count": null,
   "id": "republican-animal",
   "metadata": {},
   "outputs": [],
   "source": [
    "import pvporcupine\n",
    "import struct\n",
    "import pyaudio"
   ]
  },
  {
   "cell_type": "code",
   "execution_count": null,
   "id": "awful-comparison",
   "metadata": {},
   "outputs": [],
   "source": [
    "import assistant.pushtotalk as pushtotalk"
   ]
  },
  {
   "cell_type": "code",
   "execution_count": null,
   "id": "demanding-committee",
   "metadata": {},
   "outputs": [],
   "source": [
    "handle = pvporcupine.create(keyword_paths=['./hey_lumi.ppn'])\n",
    "pa = pyaudio.PyAudio()\n",
    "audio_stream = pa.open(\n",
    "                rate=handle.sample_rate,\n",
    "                channels=1,\n",
    "                format=pyaudio.paInt16,\n",
    "                input=True,\n",
    "                frames_per_buffer=handle.frame_length)"
   ]
  },
  {
   "cell_type": "code",
   "execution_count": null,
   "id": "neutral-truck",
   "metadata": {
    "scrolled": true
   },
   "outputs": [],
   "source": [
    "try:\n",
    "    print('started')\n",
    "    while True:\n",
    "        pcm = audio_stream.read(handle.frame_length)\n",
    "        pcm = struct.unpack_from(\"h\" * handle.frame_length, pcm)\n",
    "        keyword_index = handle.process(pcm)\n",
    "        if keyword_index >= 0:\n",
    "            # detected\n",
    "            pushtotalk.main(\n",
    "                project_id='hey-lumi',\n",
    "                device_model_id='hey-lumi-hey-lumi-e75s95',\n",
    "                credentials='./credentials.json',\n",
    "                once=True\n",
    "            )\n",
    "            pass\n",
    "finally:\n",
    "    if handle is not None:\n",
    "        handle.delete()\n",
    "\n",
    "    if audio_stream is not None:\n",
    "        audio_stream.close()\n",
    "\n",
    "    if pa is not None:\n",
    "        pa.terminate()"
   ]
  }
 ],
 "metadata": {
  "kernelspec": {
   "display_name": "Python 3",
   "language": "python",
   "name": "python3"
  },
  "language_info": {
   "codemirror_mode": {
    "name": "ipython",
    "version": 3
   },
   "file_extension": ".py",
   "mimetype": "text/x-python",
   "name": "python",
   "nbconvert_exporter": "python",
   "pygments_lexer": "ipython3",
   "version": "3.8.5"
  }
 },
 "nbformat": 4,
 "nbformat_minor": 5
}
